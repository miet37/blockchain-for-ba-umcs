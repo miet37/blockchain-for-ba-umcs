{
  "nbformat": 4,
  "nbformat_minor": 0,
  "metadata": {
    "colab": {
      "provenance": [],
      "authorship_tag": "ABX9TyN8UfHyEVJ65IsHNFzHjwIV",
      "include_colab_link": true
    },
    "kernelspec": {
      "name": "python3",
      "display_name": "Python 3"
    },
    "language_info": {
      "name": "python"
    }
  },
  "cells": [
    {
      "cell_type": "markdown",
      "metadata": {
        "id": "view-in-github",
        "colab_type": "text"
      },
      "source": [
        "<a href=\"https://colab.research.google.com/github/miet37/blockchain-for-ba-umcs/blob/main/Blockchain_for_ba_umcs_mp.ipynb\" target=\"_parent\"><img src=\"https://colab.research.google.com/assets/colab-badge.svg\" alt=\"Open In Colab\"/></a>"
      ]
    },
    {
      "cell_type": "code",
      "execution_count": null,
      "metadata": {
        "id": "0pnIeiwaNSgW"
      },
      "outputs": [],
      "source": [
        "#ag_umcs blockchain"
      ]
    },
    {
      "cell_type": "code",
      "source": [
        "#hashing\n",
        "import hashlib"
      ],
      "metadata": {
        "id": "0VyV31cROI-z"
      },
      "execution_count": 1,
      "outputs": []
    },
    {
      "cell_type": "code",
      "source": [
        "message = 'Blockchain ag_umcs'\n",
        "mh = hashlib.sha256(message.encode())\n",
        "print(mh)"
      ],
      "metadata": {
        "colab": {
          "base_uri": "https://localhost:8080/"
        },
        "id": "QRTyArzLOdc4",
        "outputId": "945fcba4-0acc-46df-c182-5f36dbb1e474"
      },
      "execution_count": 5,
      "outputs": [
        {
          "output_type": "stream",
          "name": "stdout",
          "text": [
            "<sha256 _hashlib.HASH object @ 0x79f0b3702f90>\n"
          ]
        }
      ]
    },
    {
      "cell_type": "code",
      "source": [
        "print(mh.digest())\n",
        "print(mh.hexdigest())"
      ],
      "metadata": {
        "colab": {
          "base_uri": "https://localhost:8080/"
        },
        "id": "L1qHGmntPVE_",
        "outputId": "7a423b57-0398-425f-b93a-1da6d3b61829"
      },
      "execution_count": 8,
      "outputs": [
        {
          "output_type": "stream",
          "name": "stdout",
          "text": [
            "b'\\xde WQ\\xa4\\xfe\\\\\\xd0{\\xf9\\xa3.&\\xf3\\xb5\\x0c\\xc6\\xe5\\xef\\xc3Y \\xeb\\x84W\\xe1\\xbdc:~\\xc7s'\n",
            "de205751a4fe5cd07bf9a32e26f3b50cc6e5efc35920eb8457e1bd633a7ec773\n"
          ]
        }
      ]
    },
    {
      "cell_type": "code",
      "source": [
        "def ag_hash(m):\n",
        "  mh = hashlib.sha256(m.encode())\n",
        "  return mh.hexdigest()"
      ],
      "metadata": {
        "id": "CpsR76fqQDq3"
      },
      "execution_count": 9,
      "outputs": []
    },
    {
      "cell_type": "code",
      "source": [
        "print(ag_hash('blockchain in business application is great'))\n",
        "print(ag_hash('Blockchain ag_umcs'))"
      ],
      "metadata": {
        "colab": {
          "base_uri": "https://localhost:8080/"
        },
        "id": "U6ZZmeATQYkH",
        "outputId": "c095ae7c-cb85-4c13-aaef-1fdab2f6fb49"
      },
      "execution_count": 11,
      "outputs": [
        {
          "output_type": "stream",
          "name": "stdout",
          "text": [
            "792a8dbb5f0e3eb96401657f80d1af187e01a1604098eb7ef06320dbee05ecae\n",
            "de205751a4fe5cd07bf9a32e26f3b50cc6e5efc35920eb8457e1bd633a7ec773\n"
          ]
        }
      ]
    },
    {
      "cell_type": "code",
      "source": [
        "class Block:\n",
        "  def __init__(self, prev_block_hash, transaction_list):\n",
        "    self.prev_block_hash = prev_block_hash\n",
        "    self.transaction_list = transaction_list\n",
        "    self.data = f'{\",\".join(transaction_list)}, prev block hash is: {prev_block_hash}'\n",
        "    self.hash = hashlib.sha256(self.data.encode()).hexdigest()\n"
      ],
      "metadata": {
        "id": "8IG7lVapQr6u"
      },
      "execution_count": 39,
      "outputs": []
    },
    {
      "cell_type": "code",
      "source": [
        "tr_for_start = ['This is genesis block fo AG blockchain']\n",
        "pr_hash = 'Genesis block'"
      ],
      "metadata": {
        "id": "UdRF8ZoITM6M"
      },
      "execution_count": 40,
      "outputs": []
    },
    {
      "cell_type": "code",
      "source": [
        "b0 = Block(pr_hash,tr_for_start)"
      ],
      "metadata": {
        "id": "P4IF2nQgUn4F"
      },
      "execution_count": 43,
      "outputs": []
    },
    {
      "cell_type": "code",
      "source": [
        "print(b0.data)\n",
        "print(b0.hash)"
      ],
      "metadata": {
        "colab": {
          "base_uri": "https://localhost:8080/"
        },
        "id": "yG9ynxrUUp0C",
        "outputId": "3e9932a8-234e-441c-e40e-879ddab40b91"
      },
      "execution_count": 44,
      "outputs": [
        {
          "output_type": "stream",
          "name": "stdout",
          "text": [
            "This is genesis block fo AG blockchain, prev block hash is: Genesis block\n",
            "928bfbc31cdf8038624035072f0726570ae02a6888be4a1792c096acd3574008\n"
          ]
        }
      ]
    },
    {
      "cell_type": "code",
      "source": [
        "t1 = ['Alice send $2 to Bob','Bob send a chcolate to Alice']\n",
        "b1 = Block(b0.hash,t1)"
      ],
      "metadata": {
        "id": "xYF1ukNLVn8q"
      },
      "execution_count": 45,
      "outputs": []
    },
    {
      "cell_type": "code",
      "source": [
        "print(b1.data)\n",
        "print(b1.hash)"
      ],
      "metadata": {
        "colab": {
          "base_uri": "https://localhost:8080/"
        },
        "id": "dMTbgcAUWNUi",
        "outputId": "ab0a70b8-a049-4ba7-904f-d048b70bf106"
      },
      "execution_count": 48,
      "outputs": [
        {
          "output_type": "stream",
          "name": "stdout",
          "text": [
            "Alice send $2 to Bob,Bob send a chcolate to Alice, prev block hash is: 928bfbc31cdf8038624035072f0726570ae02a6888be4a1792c096acd3574008\n",
            "d7cbf50477b4ba85164879c066a408a610d75e67ffbed8b2f49ff93c14692691\n"
          ]
        }
      ]
    }
  ]
}